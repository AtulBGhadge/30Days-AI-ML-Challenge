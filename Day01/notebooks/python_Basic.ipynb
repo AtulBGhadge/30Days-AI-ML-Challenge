{
 "cells": [
  {
   "cell_type": "code",
   "execution_count": 1,
   "id": "ebb17ea2-20ee-473c-a15c-f244a94bf78f",
   "metadata": {},
   "outputs": [
    {
     "name": "stdout",
     "output_type": "stream",
     "text": [
      "India\n"
     ]
    }
   ],
   "source": [
    "print(\"India\")"
   ]
  },
  {
   "cell_type": "code",
   "execution_count": 2,
   "id": "0fd2f178-477f-452f-b673-eeb0d6e7d005",
   "metadata": {},
   "outputs": [
    {
     "name": "stdout",
     "output_type": "stream",
     "text": [
      "Atul Bharat Ghadge\n"
     ]
    }
   ],
   "source": [
    "print(\"Atul\",\"Bharat\",\"Ghadge\")"
   ]
  },
  {
   "cell_type": "code",
   "execution_count": 4,
   "id": "38db3722-7eed-4e67-b2f4-4f97a9311f95",
   "metadata": {},
   "outputs": [
    {
     "name": "stdout",
     "output_type": "stream",
     "text": [
      "atul/Ghadge\n"
     ]
    }
   ],
   "source": [
    "print(\"atul\",\"Ghadge\",sep ='/')"
   ]
  },
  {
   "cell_type": "code",
   "execution_count": 5,
   "id": "9bcf6ef9-9b79-4d40-82d4-ad596462daa1",
   "metadata": {},
   "outputs": [
    {
     "name": "stdout",
     "output_type": "stream",
     "text": [
      "Atul\n",
      "Ghadge\n"
     ]
    }
   ],
   "source": [
    "print(\"Atul\")\n",
    "print(\"Ghadge\")"
   ]
  },
  {
   "cell_type": "code",
   "execution_count": 6,
   "id": "f9e63957-62ab-40a0-b240-288492a0826f",
   "metadata": {},
   "outputs": [
    {
     "name": "stdout",
     "output_type": "stream",
     "text": [
      "AtulGhadge\n"
     ]
    }
   ],
   "source": [
    "print(\"Atul\",end='')\n",
    "print(\"Ghadge\")"
   ]
  },
  {
   "cell_type": "markdown",
   "id": "24c3553d-3992-4e8e-b41e-b96e857753b0",
   "metadata": {},
   "source": [
    "##### It was for just understanding of python basic for \"print\" "
   ]
  },
  {
   "cell_type": "code",
   "execution_count": 20,
   "id": "7c1f1b60-7376-44db-a85e-5b2c20ca9e2c",
   "metadata": {},
   "outputs": [
    {
     "name": "stdout",
     "output_type": "stream",
     "text": [
      "12\n",
      "12.2\n",
      "(12+2j)\n",
      "Atul\n",
      "Atul\n"
     ]
    }
   ],
   "source": [
    "#integer -->This is known as comment , this is non executable code by compiler , why use to make others understand how code working and even for ourself that how this function or code working\n",
    "print(12)\n",
    "\n",
    "#float\n",
    "print(12.2)\n",
    "\n",
    "#complex\n",
    "print(12+2j)\n",
    "\n",
    "#String\n",
    "print(\"Atul\")\n",
    "print(\"\"\"Atul\"\"\")"
   ]
  },
  {
   "cell_type": "code",
   "execution_count": 18,
   "id": "030ec0c5-5de6-47cc-8e10-66a9977fe076",
   "metadata": {},
   "outputs": [
    {
     "name": "stdout",
     "output_type": "stream",
     "text": [
      "[1, 2, 3]\n",
      "(1, 2, 3)\n",
      "{1, 2, 3}\n",
      "{'name': 'Atul', 'Gender': 'Male'}\n"
     ]
    }
   ],
   "source": [
    "#List\n",
    "print([1,2,3])\n",
    "#tuple\n",
    "print((1,2,3))\n",
    "#sets\n",
    "print({1,2,3})\n",
    "#dectonery\n",
    "print({\"name\":\"Atul\",\"Gender\":\"Male\"})"
   ]
  },
  {
   "cell_type": "code",
   "execution_count": 21,
   "id": "f6046688-17cf-4793-9d08-4fc944b61df0",
   "metadata": {},
   "outputs": [],
   "source": [
    "#variables --->they're container which stores value , Best thing about python no need of declsre datatype -->that is also known as dynamic typing\n",
    "name = \"Atul\""
   ]
  },
  {
   "cell_type": "code",
   "execution_count": 22,
   "id": "a3637fdc-95fd-4408-9f33-c38e01a98d46",
   "metadata": {},
   "outputs": [
    {
     "name": "stdout",
     "output_type": "stream",
     "text": [
      "Atul\n"
     ]
    }
   ],
   "source": [
    "print(name)"
   ]
  },
  {
   "cell_type": "code",
   "execution_count": 27,
   "id": "44b62ee4-14c9-4e3e-a4fc-6a79f402e280",
   "metadata": {},
   "outputs": [
    {
     "name": "stdout",
     "output_type": "stream",
     "text": [
      "['False', 'None', 'True', 'and', 'as', 'assert', 'async', 'await', 'break', 'class', 'continue', 'def', 'del', 'elif', 'else', 'except', 'finally', 'for', 'from', 'global', 'if', 'import', 'in', 'is', 'lambda', 'nonlocal', 'not', 'or', 'pass', 'raise', 'return', 'try', 'while', 'with', 'yield']\n"
     ]
    }
   ],
   "source": [
    "#keywords\n",
    "import keyword\n",
    "print(keyword.kwlist)\n",
    "\n",
    "\n",
    "\n",
    "#keywords are words that are used in python and it has diffrent meaning and diffrent working \n",
    "#python is caseseneitive"
   ]
  },
  {
   "cell_type": "code",
   "execution_count": 29,
   "id": "11ab7a84-daae-4aee-a7df-747b50bb8ab0",
   "metadata": {},
   "outputs": [
    {
     "name": "stdin",
     "output_type": "stream",
     "text": [
      "whats your name Atul\n"
     ]
    },
    {
     "data": {
      "text/plain": [
       "'Atul'"
      ]
     },
     "execution_count": 29,
     "metadata": {},
     "output_type": "execute_result"
    }
   ],
   "source": [
    "#Input\n",
    "input(\"whats your name\")"
   ]
  },
  {
   "cell_type": "code",
   "execution_count": 30,
   "id": "079e6120-b4ee-43f7-8b21-e397ba0e46b7",
   "metadata": {},
   "outputs": [
    {
     "name": "stdin",
     "output_type": "stream",
     "text": [
      "Enter 1st no: 12\n",
      "Enter 2nd no: 2\n"
     ]
    },
    {
     "name": "stdout",
     "output_type": "stream",
     "text": [
      "14\n"
     ]
    }
   ],
   "source": [
    "no1 =int (input(\"Enter 1st no:\"))\n",
    "no2 =int (input(\"Enter 2nd no:\"))\n",
    "\n",
    "result = no1 + no2\n",
    "print(result)"
   ]
  },
  {
   "cell_type": "markdown",
   "id": "fc68f625-5294-4b68-966a-22e53b9ecb9b",
   "metadata": {},
   "source": [
    "### Operators\n",
    "#### Arithmetic  [ + , - , * , / , // , ** , % ]\n",
    "#### Comparision [ > , < , == , >= , <= , != ]\n",
    "#### Logical     [ or , and , not ]\n",
    "#### Bitwise     [ & , | , >> , << , ~ ]\n",
    "#### Assignment  [ = , += , -= , *= , /= , &= , |= , ...etc ]\n",
    "#### identity    [  is , not is ]\n",
    "#### membership  [ in , not in ]"
   ]
  },
  {
   "cell_type": "markdown",
   "id": "5d8bc96d-2a36-4f09-b9fb-64b03ead3c9e",
   "metadata": {},
   "source": [
    "### If Else statements"
   ]
  },
  {
   "cell_type": "code",
   "execution_count": 34,
   "id": "f274a567-aec1-434b-9dea-0670bb7bd676",
   "metadata": {},
   "outputs": [
    {
     "name": "stdin",
     "output_type": "stream",
     "text": [
      "age  21\n",
      "name  Atul\n"
     ]
    },
    {
     "name": "stdout",
     "output_type": "stream",
     "text": [
      "Welcomeback\n"
     ]
    }
   ],
   "source": [
    "age = input (\"age \")\n",
    "name = input (\"name \")\n",
    "\n",
    "if name == \"Atul\" and age == \"21\":\n",
    "    print(\"Welcomeback\")\n",
    "else:\n",
    "    print(\"Wrong person\")"
   ]
  },
  {
   "cell_type": "code",
   "execution_count": 39,
   "id": "a60478f1-0bb5-46bd-b022-e74baac95875",
   "metadata": {},
   "outputs": [
    {
     "name": "stdin",
     "output_type": "stream",
     "text": [
      "age  21\n",
      "name  atul\n"
     ]
    },
    {
     "name": "stdout",
     "output_type": "stream",
     "text": [
      "Wrong Name Try Again\n"
     ]
    },
    {
     "name": "stdin",
     "output_type": "stream",
     "text": [
      "Name Atul\n"
     ]
    },
    {
     "name": "stdout",
     "output_type": "stream",
     "text": [
      "Welcome back\n"
     ]
    }
   ],
   "source": [
    "age = input (\"age \")\n",
    "name = input (\"name \")\n",
    "\n",
    "if name == \"Atul\" and age == \"21\":\n",
    "    print(\"Welcomeback\")\n",
    "elif age == \"21\" and name != \"Atul\":\n",
    "    print(\"Wrong Name Try Again\")\n",
    "    name = input(\"Name\")\n",
    "    if name == \"Atul\" :\n",
    "        print(\"Welcome back\")\n",
    "    else: \n",
    "        print(\"NOT YOU\")\n",
    "else:\n",
    "    print(\"Wrong person\")"
   ]
  },
  {
   "cell_type": "markdown",
   "id": "bf08cca0-12a0-40a3-a28e-b3b3c0060da6",
   "metadata": {},
   "source": [
    "### Loops\n",
    "#### for \n",
    "#### while"
   ]
  },
  {
   "cell_type": "code",
   "execution_count": 41,
   "id": "9f6179bc-e011-43b6-be68-f40a22b3804b",
   "metadata": {},
   "outputs": [
    {
     "name": "stdin",
     "output_type": "stream",
     "text": [
      "Enter the number 10\n"
     ]
    },
    {
     "name": "stdout",
     "output_type": "stream",
     "text": [
      "10 * 1 = 10\n",
      "10 * 2 = 20\n",
      "10 * 3 = 30\n",
      "10 * 4 = 40\n",
      "10 * 5 = 50\n",
      "10 * 6 = 60\n",
      "10 * 7 = 70\n",
      "10 * 8 = 80\n",
      "10 * 9 = 90\n",
      "10 * 10 = 100\n"
     ]
    }
   ],
   "source": [
    "number = int ( input ( \"Enter the number\" ) )\n",
    "\n",
    "i = 1\n",
    "\n",
    "while i <= 10:\n",
    "    print( number , \"*\" , i , \"=\" , number*i)\n",
    "    i += 1\n",
    "    "
   ]
  },
  {
   "cell_type": "markdown",
   "id": "275243ab-b588-4240-aff1-a2382c07bced",
   "metadata": {},
   "source": [
    "## Gussing game using Random number by using Random"
   ]
  },
  {
   "cell_type": "code",
   "execution_count": 44,
   "id": "32fc5761-e0a8-4f92-b58e-e1604c4ae422",
   "metadata": {},
   "outputs": [
    {
     "name": "stdin",
     "output_type": "stream",
     "text": [
      "Guess The Number 12\n"
     ]
    },
    {
     "name": "stdout",
     "output_type": "stream",
     "text": [
      "Guess Higher\n"
     ]
    },
    {
     "name": "stdin",
     "output_type": "stream",
     "text": [
      "Guess The Number 50\n"
     ]
    },
    {
     "name": "stdout",
     "output_type": "stream",
     "text": [
      "Guess Lower\n"
     ]
    },
    {
     "name": "stdin",
     "output_type": "stream",
     "text": [
      "Guess The Number 30\n"
     ]
    },
    {
     "name": "stdout",
     "output_type": "stream",
     "text": [
      "Guess Higher\n"
     ]
    },
    {
     "name": "stdin",
     "output_type": "stream",
     "text": [
      "Guess The Number 40\n"
     ]
    },
    {
     "name": "stdout",
     "output_type": "stream",
     "text": [
      "Guess Lower\n"
     ]
    },
    {
     "name": "stdin",
     "output_type": "stream",
     "text": [
      "Guess The Number 35\n"
     ]
    },
    {
     "name": "stdout",
     "output_type": "stream",
     "text": [
      "Guess Lower\n"
     ]
    },
    {
     "name": "stdin",
     "output_type": "stream",
     "text": [
      "Guess The Number 33\n"
     ]
    },
    {
     "name": "stdout",
     "output_type": "stream",
     "text": [
      "Guess Lower\n"
     ]
    },
    {
     "name": "stdin",
     "output_type": "stream",
     "text": [
      "Guess The Number 32\n"
     ]
    },
    {
     "name": "stdout",
     "output_type": "stream",
     "text": [
      "You Hit Jackpot\n"
     ]
    }
   ],
   "source": [
    "import random\n",
    "Jackpot = random.randint(1,100)\n",
    "guess = int ( input ( \"Guess The Number\" ) )\n",
    "\n",
    "while guess != Jackpot:\n",
    "    if guess < Jackpot:\n",
    "        print(\"Guess Higher\")\n",
    "    else:\n",
    "        print(\"Guess Lower\")\n",
    "    guess = int ( input ( \"Guess The Number\" ) )\n",
    "print(\"You Hit Jackpot\")\n"
   ]
  },
  {
   "cell_type": "markdown",
   "id": "eb74fdb7-c9aa-4c98-94bd-2642db0d904b",
   "metadata": {},
   "source": [
    "### For "
   ]
  },
  {
   "cell_type": "code",
   "execution_count": 54,
   "id": "c71b25a9-5aad-4be7-94e6-8a0539da24d7",
   "metadata": {},
   "outputs": [
    {
     "name": "stdin",
     "output_type": "stream",
     "text": [
      "enter thenumber between 1-10 5\n"
     ]
    },
    {
     "name": "stdout",
     "output_type": "stream",
     "text": [
      "5\n",
      "6\n",
      "7\n",
      "8\n",
      "9\n",
      "10\n"
     ]
    }
   ],
   "source": [
    "i = int (input(\"enter thenumber between 1-10\"))\n",
    "for i in range(i,11):\n",
    "    print (i)"
   ]
  },
  {
   "cell_type": "markdown",
   "id": "11155d95-5ed2-49da-869d-e80d889565ab",
   "metadata": {},
   "source": [
    "### Nasted Loops"
   ]
  },
  {
   "cell_type": "code",
   "execution_count": 58,
   "id": "387a86f9-5c5c-4868-8275-1a84ed37b690",
   "metadata": {},
   "outputs": [
    {
     "name": "stdin",
     "output_type": "stream",
     "text": [
      "Enter thenumber of rows 12\n"
     ]
    },
    {
     "name": "stdout",
     "output_type": "stream",
     "text": [
      "*  \n",
      "* *  \n",
      "* * *  \n",
      "* * * *  \n",
      "* * * * *  \n",
      "* * * * * *  \n",
      "* * * * * * *  \n",
      "* * * * * * * *  \n",
      "* * * * * * * * *  \n",
      "* * * * * * * * * *  \n",
      "* * * * * * * * * * *  \n",
      "* * * * * * * * * * * *  \n"
     ]
    }
   ],
   "source": [
    "rows = int ( input ( \"Enter thenumber of rows\") )\n",
    "\n",
    "for i in range( 1, rows + 1):\n",
    "    for j in range( 0 , i ):\n",
    "        print(\"*\" , end =\" \" )\n",
    "    print(\" \")"
   ]
  },
  {
   "cell_type": "markdown",
   "id": "e8dcbd5b-d7c7-41d9-b5e8-9650673c8304",
   "metadata": {},
   "source": [
    "### Break continue and pass"
   ]
  },
  {
   "cell_type": "code",
   "execution_count": 59,
   "id": "07ef6904-927d-41d2-b72d-0337e0b3e9bf",
   "metadata": {},
   "outputs": [
    {
     "name": "stdout",
     "output_type": "stream",
     "text": [
      "1\n"
     ]
    }
   ],
   "source": [
    "for i in range (1,11):\n",
    "    if i == 2:\n",
    "        break\n",
    "    print(i)\n"
   ]
  },
  {
   "cell_type": "code",
   "execution_count": 60,
   "id": "a619d3ec-0d92-49ba-a52b-9a8fa56ed2cf",
   "metadata": {},
   "outputs": [
    {
     "name": "stdout",
     "output_type": "stream",
     "text": [
      "1\n",
      "3\n",
      "4\n",
      "5\n",
      "6\n",
      "7\n",
      "8\n",
      "9\n",
      "10\n"
     ]
    }
   ],
   "source": [
    "for i in range (1,11):\n",
    "    if i == 2:\n",
    "        continue\n",
    "    print(i)"
   ]
  },
  {
   "cell_type": "code",
   "execution_count": 61,
   "id": "6675ec1f-7d20-4d20-a2e1-958c71785679",
   "metadata": {},
   "outputs": [],
   "source": [
    "for i in range (1,11):\n",
    "    pass"
   ]
  },
  {
   "cell_type": "markdown",
   "id": "534e660c-0ab1-4072-b80b-34bca940757c",
   "metadata": {},
   "source": [
    "## Most used Built in Functions"
   ]
  },
  {
   "cell_type": "markdown",
   "id": "50377539-39c1-49ef-93a1-d90dffa82752",
   "metadata": {},
   "source": [
    "> ## print()\n",
    ">> - ### print(\"hello world\")\n",
    "> ## input()\n",
    ">> - ### input(\"enter the number\")\n",
    "> ## type()\n",
    ">> - ### a = 3 --> type(a) --> data type of a\n",
    "> ## abs(\"))\n",
    ">> - ### abs(4) --> 4\n",
    "> ## Pow()\n",
    ">> - ### pow(3,3) --> 3 to the power 3 --> 27\n",
    "> ## Min/Max\n",
    ">> - ### min([1,2,3,4]) --> 1 / max((1,2,3,4]) --> 4\n",
    ">## id()\n",
    ">> - ### a = 4 --> id(a) --> adress of a stored in your computer \n",
    ">## len()\n",
    ">> - ### len(\"Atul\") --> 4\n",
    ">## help()\n",
    ">> - ### this is most useful when you want to know about any other function help(\"print\") and it will show all details about it."
   ]
  },
  {
   "cell_type": "code",
   "execution_count": 64,
   "id": "f852230d-1531-4317-bdd3-2d469db05ca3",
   "metadata": {},
   "outputs": [
    {
     "name": "stdout",
     "output_type": "stream",
     "text": [
      "\n",
      "Please wait a moment while I gather a list of all available modules...\n",
      "\n"
     ]
    },
    {
     "name": "stderr",
     "output_type": "stream",
     "text": [
      "/usr/lib/python3.12/pkgutil.py:78: UserWarning: pkg_resources is deprecated as an API. See https://setuptools.pypa.io/en/latest/pkg_resources.html. The pkg_resources package is slated for removal as early as 2025-11-30. Refrain from using this package or pin to Setuptools<81.\n",
      "  __import__(info.name)\n"
     ]
    },
    {
     "name": "stdout",
     "output_type": "stream",
     "text": [
      "IPython             argon2              ipython_pygments_lexers rfc3987_syntax\n",
      "__future__          argparse            isoduration         rlcompleter\n",
      "__hello__           array               itertools           rpds\n",
      "__phello__          arrow               jedi                runpy\n",
      "_abc                ast                 jinja2              sched\n",
      "_aix_support        asttokens           json                secrets\n",
      "_argon2_cffi_bindings async_lru           json5               select\n",
      "_ast                asyncio             jsonpointer         selectors\n",
      "_asyncio            atexit              jsonschema          send2trash\n",
      "_bisect             attr                jsonschema_specifications setuptools\n",
      "_blake2             attrs               jupyter             shelve\n",
      "_bz2                audioop             jupyter_client      shlex\n",
      "_cffi_backend       autocommand         jupyter_core        shutil\n",
      "_codecs             babel               jupyter_events      signal\n",
      "_codecs_cn          backports           jupyter_lsp         site\n",
      "_codecs_hk          base64              jupyter_server      sitecustomize\n",
      "_codecs_iso2022     bdb                 jupyter_server_terminals six\n",
      "_codecs_jp          binascii            jupyterlab          smtplib\n",
      "_codecs_kr          bisect              jupyterlab_pygments sndhdr\n",
      "_codecs_tw          bleach              jupyterlab_server   sniffio\n",
      "_collections        bs4                 keyword             socket\n",
      "_collections_abc    builtins            lark                socketserver\n",
      "_compat_pickle      bz2                 linecache           soupsieve\n",
      "_compression        cProfile            locale              spwd\n",
      "_contextvars        calendar            logging             sqlite3\n",
      "_crypt              certifi             lzma                sre_compile\n",
      "_csv                cffi                mailbox             sre_constants\n",
      "_ctypes             cgi                 mailcap             sre_parse\n",
      "_ctypes_test        cgitb               markupsafe          ssl\n",
      "_curses             charset_normalizer  marshal             stack_data\n",
      "_curses_panel       chunk               math                stat\n",
      "_datetime           cmath               matplotlib_inline   statistics\n",
      "_dbm                cmd                 mimetypes           string\n",
      "_decimal            code                mistune             stringprep\n",
      "_distutils_hack     codecs              mmap                struct\n",
      "_distutils_system_mod codeop              modulefinder        subprocess\n",
      "_elementtree        collections         more_itertools      sunau\n",
      "_functools          colorsys            multiprocessing     symtable\n",
      "_gdbm               comm                nbclient            sys\n",
      "_hashlib            compileall          nbconvert           sysconfig\n",
      "_heapq              concurrent          nbformat            syslog\n",
      "_imp                configparser        nest_asyncio        tabnanny\n",
      "_io                 contextlib          netrc               tarfile\n",
      "_json               contextvars         nntplib             telnetlib\n",
      "_locale             copy                notebook            tempfile\n",
      "_lsprof             copyreg             notebook_shim       terminado\n",
      "_lzma               crypt               ntpath              termios\n",
      "_markupbase         csv                 nturl2path          test\n",
      "_md5                ctypes              numbers             textwrap\n",
      "_multibytecodec     curses              numpy               this\n",
      "_multiprocessing    dataclasses         opcode              threading\n",
      "_opcode             datetime            operator            time\n",
      "_operator           dateutil            optparse            timeit\n",
      "_osx_support        dbm                 os                  tinycss2\n",
      "_pickle             debugpy             ossaudiodev         token\n",
      "_posixshmem         decimal             overrides           tokenize\n",
      "_posixsubprocess    decorator           packaging           tomli\n",
      "_py_abc             defusedxml          pandas              tomllib\n",
      "_pydatetime         difflib             pandocfilters       tornado\n",
      "_pydecimal          dis                 parso               trace\n",
      "_pyio               doctest             pathlib             traceback\n",
      "_pylong             email               pdb                 tracemalloc\n",
      "_queue              encodings           pexpect             traitlets\n",
      "_random             ensurepip           pickle              tty\n",
      "_sha1               enum                pickletools         turtle\n",
      "_sha2               errno               pip                 typeguard\n",
      "_sha3               executing           pipes               types\n",
      "_signal             fastjsonschema      pkg_resources       typing\n",
      "_sitebuiltins       faulthandler        pkgutil             typing_extensions\n",
      "_socket             fcntl               platform            tzdata\n",
      "_sqlite3            filecmp             platformdirs        unicodedata\n",
      "_sre                fileinput           plistlib            unittest\n",
      "_ssl                fnmatch             poplib              uri_template\n",
      "_stat               fqdn                posix               urllib\n",
      "_statistics         fractions           posixpath           urllib3\n",
      "_string             ftplib              pprint              uu\n",
      "_strptime           functools           profile             uuid\n",
      "_struct             gc                  prometheus_client   venv\n",
      "_symtable           genericpath         prompt_toolkit      warnings\n",
      "_sysconfigdata__linux_x86_64-linux-gnu getopt              pstats              wave\n",
      "_sysconfigdata__x86_64-linux-gnu getpass             psutil              wcwidth\n",
      "_testbuffer         gettext             pty                 weakref\n",
      "_testcapi           glob                ptyprocess          webbrowser\n",
      "_testclinic         graphlib            pure_eval           webcolors\n",
      "_testimportmultiple grp                 pwd                 webencodings\n",
      "_testinternalcapi   gzip                py_compile          websocket\n",
      "_testmultiphase     h11                 pyclbr              wheel\n",
      "_testsinglephase    hashlib             pycparser           wsgiref\n",
      "_thread             heapq               pydoc               xdrlib\n",
      "_threading_local    hmac                pydoc_data          xml\n",
      "_tokenize           html                pyexpat             xmlrpc\n",
      "_tracemalloc        http                pygments            xxlimited\n",
      "_typing             httpcore            pythonjsonlogger    xxlimited_35\n",
      "_warnings           httpx               pytz                xxsubtype\n",
      "_weakref            idna                queue               yaml\n",
      "_weakrefset         imaplib             quopri              zipapp\n",
      "_xxinterpchannels   imghdr              random              zipfile\n",
      "_xxsubinterpreters  importlib           re                  zipimport\n",
      "_xxtestfuzz         importlib_metadata  readline            zipp\n",
      "_yaml               inflect             referencing         zlib\n",
      "_zoneinfo           inspect             reprlib             zmq\n",
      "abc                 io                  requests            zoneinfo\n",
      "aifc                ipaddress           resource            \n",
      "antigravity         ipykernel           rfc3339_validator   \n",
      "anyio               ipykernel_launcher  rfc3986_validator   \n",
      "\n",
      "Enter any module name to get more help.  Or, type \"modules spam\" to search\n",
      "for modules whose name or summary contain the string \"spam\".\n",
      "\n"
     ]
    }
   ],
   "source": [
    "help(\"modules\")"
   ]
  },
  {
   "cell_type": "markdown",
   "id": "98f6aab5-9350-475b-85fe-b6442b050b9a",
   "metadata": {},
   "source": [
    "### Doing Operations on List Starting from creating till as much as possible"
   ]
  },
  {
   "cell_type": "code",
   "execution_count": 84,
   "id": "4a05b28b-4dd2-4088-844e-113b815713f8",
   "metadata": {},
   "outputs": [
    {
     "name": "stdout",
     "output_type": "stream",
     "text": [
      "[]\n",
      "[12, 2]\n",
      "[1, 2, [12, 2]]\n",
      "[[1, [2, [3, 4]]]]\n"
     ]
    }
   ],
   "source": [
    "l=[]\n",
    "l1=[12,2]\n",
    "l2=[1,2,[12,2]] # 2D list\n",
    "l3=[[1,[2,[3,4]]]] # 3D List\n",
    "print(l)\n",
    "print(l1)\n",
    "print(l2)\n",
    "print(l3)"
   ]
  },
  {
   "cell_type": "markdown",
   "id": "0ffbd787-440a-4e82-bb56-de6e88584f8e",
   "metadata": {},
   "source": [
    "#### access the list"
   ]
  },
  {
   "cell_type": "code",
   "execution_count": 75,
   "id": "7ef1109c-809e-41d0-8f96-27740d05009f",
   "metadata": {},
   "outputs": [
    {
     "data": {
      "text/plain": [
       "[2, 12]"
      ]
     },
     "execution_count": 75,
     "metadata": {},
     "output_type": "execute_result"
    }
   ],
   "source": [
    "l1[::-1] #Reversed the list "
   ]
  },
  {
   "cell_type": "code",
   "execution_count": 89,
   "id": "46ad8b5e-ddab-4a1d-90ee-8865a8ecc761",
   "metadata": {},
   "outputs": [
    {
     "data": {
      "text/plain": [
       "2"
      ]
     },
     "execution_count": 89,
     "metadata": {},
     "output_type": "execute_result"
    }
   ],
   "source": [
    "l3[0][1][0] # what is happning over here is if i've used only l1[2] then the list inside list all must been shown so using 1st location whichis 2 and its 0th position of list its showing only 2"
   ]
  },
  {
   "cell_type": "code",
   "execution_count": 86,
   "id": "d82d0165-ef17-4d9f-9525-76e2da994fcf",
   "metadata": {},
   "outputs": [
    {
     "data": {
      "text/plain": [
       "[1, [2, [3, 4]]]"
      ]
     },
     "execution_count": 86,
     "metadata": {},
     "output_type": "execute_result"
    }
   ],
   "source": [
    "l3[0] # now clear right ??"
   ]
  },
  {
   "cell_type": "markdown",
   "id": "67545b11-2c73-4f2d-8997-9ed0d1b54ca4",
   "metadata": {},
   "source": [
    "#### srings are imutable but list are mutable \n",
    "### editing list \n",
    "#### append \n",
    "#### extend \n",
    "#### insert"
   ]
  },
  {
   "cell_type": "code",
   "execution_count": 93,
   "id": "c9fa5832-55b4-4563-9079-23bcccf1527c",
   "metadata": {},
   "outputs": [
    {
     "data": {
      "text/plain": [
       "[12, 100]"
      ]
     },
     "execution_count": 93,
     "metadata": {},
     "output_type": "execute_result"
    }
   ],
   "source": [
    "l1[-1] = 100\n",
    "l1"
   ]
  },
  {
   "cell_type": "code",
   "execution_count": 96,
   "id": "c6e92800-b550-47dc-b21a-633aa0c7149d",
   "metadata": {},
   "outputs": [
    {
     "data": {
      "text/plain": [
       "[12, 100, 122, 122]"
      ]
     },
     "execution_count": 96,
     "metadata": {},
     "output_type": "execute_result"
    }
   ],
   "source": [
    "l1.append(122) # for single item to add at the end of the list\n",
    "l1"
   ]
  },
  {
   "cell_type": "code",
   "execution_count": 98,
   "id": "45a6627e-12fc-4a3c-b12d-75ad2d5f066c",
   "metadata": {},
   "outputs": [
    {
     "data": {
      "text/plain": [
       "[12, 100, 122, 122, 120, 'atul', 124]"
      ]
     },
     "execution_count": 98,
     "metadata": {},
     "output_type": "execute_result"
    }
   ],
   "source": [
    "l1.extend([120,\"atul\",124]) # for adding multiple into the list \n",
    "l1"
   ]
  },
  {
   "cell_type": "markdown",
   "id": "ca836b2e-1a93-4d97-a9a2-5a7fa92b35ff",
   "metadata": {},
   "source": [
    "#### as you can see both append and extend is adding element at the end of the list not wherever we want  to add , what if we ant to add the item on our desired position We use insert"
   ]
  },
  {
   "cell_type": "code",
   "execution_count": 99,
   "id": "5233d31c-b9a3-464e-b72a-30ab8af681ec",
   "metadata": {},
   "outputs": [
    {
     "data": {
      "text/plain": [
       "[12, 100, 'Atul', 122, 122, 120, 'atul', 124]"
      ]
     },
     "execution_count": 99,
     "metadata": {},
     "output_type": "execute_result"
    }
   ],
   "source": [
    "l1.insert(2,\"Atul\")\n",
    "l1"
   ]
  },
  {
   "cell_type": "markdown",
   "id": "c67309f2-8dca-4c8f-80fc-21f2ad3d4be1",
   "metadata": {},
   "source": [
    "### For deleting we have four types del , remove , clear & pop "
   ]
  },
  {
   "cell_type": "code",
   "execution_count": 103,
   "id": "ddd46358-a19c-48b4-8cfb-1eaa8b3a053c",
   "metadata": {},
   "outputs": [
    {
     "data": {
      "text/plain": [
       "[122, 122, 120, 'atul', 124]"
      ]
     },
     "execution_count": 103,
     "metadata": {},
     "output_type": "execute_result"
    }
   ],
   "source": [
    "del l1[0] # ive executed it three times thats why 0th position element has been deleted threetimes means three elements has been deleted \n",
    "l1"
   ]
  },
  {
   "cell_type": "code",
   "execution_count": 105,
   "id": "bceee983-3c08-48c0-b723-1951228b3821",
   "metadata": {},
   "outputs": [
    {
     "data": {
      "text/plain": [
       "[122, 122, 120, 124]"
      ]
     },
     "execution_count": 105,
     "metadata": {},
     "output_type": "execute_result"
    }
   ],
   "source": [
    "l1.remove(\"atul\")\n",
    "l1"
   ]
  },
  {
   "cell_type": "code",
   "execution_count": 106,
   "id": "6740e486-acb4-48f2-90a6-9922169d1485",
   "metadata": {},
   "outputs": [
    {
     "data": {
      "text/plain": [
       "[122, 122, 120]"
      ]
     },
     "execution_count": 106,
     "metadata": {},
     "output_type": "execute_result"
    }
   ],
   "source": [
    "l1.pop()\n",
    "l1"
   ]
  },
  {
   "cell_type": "code",
   "execution_count": 107,
   "id": "992707ad-a894-46c6-b85e-92d97e6fbcc8",
   "metadata": {},
   "outputs": [
    {
     "data": {
      "text/plain": [
       "[]"
      ]
     },
     "execution_count": 107,
     "metadata": {},
     "output_type": "execute_result"
    }
   ],
   "source": [
    "l1.clear()\n",
    "l1"
   ]
  },
  {
   "cell_type": "markdown",
   "id": "9a33d756-dbea-424f-9cdc-ae5fee0154af",
   "metadata": {},
   "source": [
    "#### for removing duplicate values "
   ]
  },
  {
   "cell_type": "code",
   "execution_count": 115,
   "id": "3fccc2e2-f6fa-4006-99eb-2d84749bebd2",
   "metadata": {},
   "outputs": [
    {
     "name": "stdout",
     "output_type": "stream",
     "text": [
      "[1, 2, 3, 4]\n"
     ]
    }
   ],
   "source": [
    "L=[1,2,3,4,4,3,2,1]\n",
    "\n",
    "l1=[]\n",
    "\n",
    "for i in L:\n",
    "    if i not in l1:\n",
    "        l1.append(i)\n",
    "print(l1)"
   ]
  },
  {
   "cell_type": "code",
   "execution_count": null,
   "id": "38b547b2-d415-4178-8dae-fa3ba379ce8b",
   "metadata": {},
   "outputs": [],
   "source": []
  }
 ],
 "metadata": {
  "kernelspec": {
   "display_name": "Python 3 (ipykernel)",
   "language": "python",
   "name": "python3"
  },
  "language_info": {
   "codemirror_mode": {
    "name": "ipython",
    "version": 3
   },
   "file_extension": ".py",
   "mimetype": "text/x-python",
   "name": "python",
   "nbconvert_exporter": "python",
   "pygments_lexer": "ipython3",
   "version": "3.12.3"
  }
 },
 "nbformat": 4,
 "nbformat_minor": 5
}
